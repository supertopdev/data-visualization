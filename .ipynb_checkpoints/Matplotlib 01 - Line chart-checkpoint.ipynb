{
 "metadata": {
  "name": ""
 },
 "nbformat": 3,
 "nbformat_minor": 0,
 "worksheets": [
  {
   "cells": [
    {
     "cell_type": "markdown",
     "metadata": {},
     "source": [
      "#### Let's plot line chart with matplotlib\n",
      "Data source : https://github.com/opennepal/odp-economy/blob/master/GDP%20Trend/data.csv \n",
      "\n",
      "Data Description : GDP Trends of Nepal"
     ]
    },
    {
     "cell_type": "code",
     "collapsed": false,
     "input": [
      "from matplotlib import pyplot as plt\n",
      "\n",
      "# we can plot charts inline with following:\n",
      "%matplotlib inline  "
     ],
     "language": "python",
     "metadata": {},
     "outputs": [],
     "prompt_number": 18
    },
    {
     "cell_type": "markdown",
     "metadata": {},
     "source": [
      "#### We will be using pandas to read data source from url and save data as dataframe"
     ]
    },
    {
     "cell_type": "code",
     "collapsed": false,
     "input": [
      "import pandas as pd\n",
      "data = pd.read_csv('https://raw.githubusercontent.com/opennepal/odp-economy/master/GDP%20Trend/data.csv')"
     ],
     "language": "python",
     "metadata": {},
     "outputs": [],
     "prompt_number": 11
    },
    {
     "cell_type": "code",
     "collapsed": false,
     "input": [
      "data"
     ],
     "language": "python",
     "metadata": {},
     "outputs": [
      {
       "html": [
        "<div style=\"max-width:1500px;overflow:auto;\">\n",
        "<table border=\"1\" class=\"dataframe\">\n",
        "  <thead>\n",
        "    <tr style=\"text-align: right;\">\n",
        "      <th></th>\n",
        "      <th>year_ad</th>\n",
        "      <th>year_bs</th>\n",
        "      <th>gdp_us_dollars</th>\n",
        "    </tr>\n",
        "  </thead>\n",
        "  <tbody>\n",
        "    <tr>\n",
        "      <th>0</th>\n",
        "      <td>2004</td>\n",
        "      <td>2061</td>\n",
        "      <td>7.273934e+09</td>\n",
        "    </tr>\n",
        "    <tr>\n",
        "      <th>1</th>\n",
        "      <td>2005</td>\n",
        "      <td>2062</td>\n",
        "      <td>8.130259e+09</td>\n",
        "    </tr>\n",
        "    <tr>\n",
        "      <th>2</th>\n",
        "      <td>2006</td>\n",
        "      <td>2063</td>\n",
        "      <td>9.043715e+09</td>\n",
        "    </tr>\n",
        "    <tr>\n",
        "      <th>3</th>\n",
        "      <td>2007</td>\n",
        "      <td>2064</td>\n",
        "      <td>1.032562e+10</td>\n",
        "    </tr>\n",
        "    <tr>\n",
        "      <th>4</th>\n",
        "      <td>2008</td>\n",
        "      <td>2065</td>\n",
        "      <td>1.254544e+10</td>\n",
        "    </tr>\n",
        "    <tr>\n",
        "      <th>5</th>\n",
        "      <td>2009</td>\n",
        "      <td>2066</td>\n",
        "      <td>1.285483e+10</td>\n",
        "    </tr>\n",
        "    <tr>\n",
        "      <th>6</th>\n",
        "      <td>2010</td>\n",
        "      <td>2067</td>\n",
        "      <td>1.601039e+10</td>\n",
        "    </tr>\n",
        "    <tr>\n",
        "      <th>7</th>\n",
        "      <td>2011</td>\n",
        "      <td>2068</td>\n",
        "      <td>1.912313e+10</td>\n",
        "    </tr>\n",
        "    <tr>\n",
        "      <th>8</th>\n",
        "      <td>2012</td>\n",
        "      <td>2069</td>\n",
        "      <td>1.896296e+10</td>\n",
        "    </tr>\n",
        "  </tbody>\n",
        "</table>\n",
        "</div>"
       ],
       "metadata": {},
       "output_type": "pyout",
       "prompt_number": 22,
       "text": [
        "   year_ad  year_bs  gdp_us_dollars\n",
        "0     2004     2061    7.273934e+09\n",
        "1     2005     2062    8.130259e+09\n",
        "2     2006     2063    9.043715e+09\n",
        "3     2007     2064    1.032562e+10\n",
        "4     2008     2065    1.254544e+10\n",
        "5     2009     2066    1.285483e+10\n",
        "6     2010     2067    1.601039e+10\n",
        "7     2011     2068    1.912313e+10\n",
        "8     2012     2069    1.896296e+10"
       ]
      }
     ],
     "prompt_number": 22
    },
    {
     "cell_type": "markdown",
     "metadata": {},
     "source": [
      "#### Rename the column names for convenient"
     ]
    },
    {
     "cell_type": "code",
     "collapsed": false,
     "input": [
      "data=data.rename(columns = {'Year AD':'year_ad', 'Year BS': 'year_bs', 'GDP current US dollars' : 'gdp_us_dollars'})"
     ],
     "language": "python",
     "metadata": {},
     "outputs": [],
     "prompt_number": 14
    },
    {
     "cell_type": "code",
     "collapsed": false,
     "input": [
      "data.head()"
     ],
     "language": "python",
     "metadata": {},
     "outputs": [
      {
       "html": [
        "<div style=\"max-width:1500px;overflow:auto;\">\n",
        "<table border=\"1\" class=\"dataframe\">\n",
        "  <thead>\n",
        "    <tr style=\"text-align: right;\">\n",
        "      <th></th>\n",
        "      <th>year_ad</th>\n",
        "      <th>year_bs</th>\n",
        "      <th>gdp_us_dollars</th>\n",
        "    </tr>\n",
        "  </thead>\n",
        "  <tbody>\n",
        "    <tr>\n",
        "      <th>0</th>\n",
        "      <td>2004</td>\n",
        "      <td>2061</td>\n",
        "      <td>7.273934e+09</td>\n",
        "    </tr>\n",
        "    <tr>\n",
        "      <th>1</th>\n",
        "      <td>2005</td>\n",
        "      <td>2062</td>\n",
        "      <td>8.130259e+09</td>\n",
        "    </tr>\n",
        "    <tr>\n",
        "      <th>2</th>\n",
        "      <td>2006</td>\n",
        "      <td>2063</td>\n",
        "      <td>9.043715e+09</td>\n",
        "    </tr>\n",
        "    <tr>\n",
        "      <th>3</th>\n",
        "      <td>2007</td>\n",
        "      <td>2064</td>\n",
        "      <td>1.032562e+10</td>\n",
        "    </tr>\n",
        "    <tr>\n",
        "      <th>4</th>\n",
        "      <td>2008</td>\n",
        "      <td>2065</td>\n",
        "      <td>1.254544e+10</td>\n",
        "    </tr>\n",
        "  </tbody>\n",
        "</table>\n",
        "</div>"
       ],
       "metadata": {},
       "output_type": "pyout",
       "prompt_number": 15,
       "text": [
        "   year_ad  year_bs  gdp_us_dollars\n",
        "0     2004     2061    7.273934e+09\n",
        "1     2005     2062    8.130259e+09\n",
        "2     2006     2063    9.043715e+09\n",
        "3     2007     2064    1.032562e+10\n",
        "4     2008     2065    1.254544e+10"
       ]
      }
     ],
     "prompt_number": 15
    },
    {
     "cell_type": "markdown",
     "metadata": {},
     "source": [
      "#### Let's us years (AD) and GDP values for the linechart"
     ]
    },
    {
     "cell_type": "code",
     "collapsed": false,
     "input": [
      "years = data['year_ad'].tolist()\n",
      "gdp = data['gdp_us_dollars'].tolist()\n"
     ],
     "language": "python",
     "metadata": {},
     "outputs": [],
     "prompt_number": 42
    },
    {
     "cell_type": "code",
     "collapsed": false,
     "input": [
      "\n",
      "# create a line chart, years on x-axis, gdp on y-axis\n",
      "plt.plot(years, gdp, color='green', marker='o', linestyle='solid')\n",
      "\n",
      "# Title of the chart 'Nominal GDP'\n",
      "plt.title(\"GDP in Nepal\")\n",
      "\n",
      "# Y axis label can be added.\n",
      "plt.ylabel(\"Dollars\")\n",
      "\n",
      "plt.show()"
     ],
     "language": "python",
     "metadata": {},
     "outputs": [
      {
       "metadata": {},
       "output_type": "display_data",
       "png": "[encoded data removed]",
       "text": [
        "<matplotlib.figure.Figure at 0x7f87fddb4050>"
       ]
      }
     ],
     "prompt_number": 40
    },
    {
     "cell_type": "markdown",
     "metadata": {},
     "source": [
      "## Read the csv file using urllib2 and csv modules"
     ]
    },
    {
     "cell_type": "code",
     "collapsed": false,
     "input": [
      "import csv\n",
      "import urllib2\n",
      "url = \"https://raw.githubusercontent.com/opennepal/odp-economy/master/GDP%20Trend/data.csv\"\n",
      "response = urllib2.urlopen(url)\n",
      "\n",
      "reader = csv.reader(response)\n",
      "\n",
      "for row in reader:\n",
      "    print row\n",
      "\n"
     ],
     "language": "python",
     "metadata": {},
     "outputs": [
      {
       "output_type": "stream",
       "stream": "stdout",
       "text": [
        "['Year AD', 'Year BS', 'GDP current US dollars']\n",
        "['2004', '2061', '7273933992.7']\n",
        "['2005', '2062', '8130258976.0']\n",
        "['2006', '2063', '9043715355.9']\n",
        "['2007', '2064', '10325618017.4']\n",
        "['2008', '2065', '12545438605.4']\n",
        "['2009', '2066', '12854834975.3']\n",
        "['2010', '2067', '16010389261.7']\n",
        "['2011', '2068', '19123129346.3']\n",
        "['2012', '2069', '18962962963.0']\n"
       ]
      }
     ],
     "prompt_number": 21
    },
    {
     "cell_type": "code",
     "collapsed": false,
     "input": [
      "headers = reader.next()\n",
      "\n",
      "for row in reader:\n",
      "    print row\n",
      "\n",
      "\n",
      "column = {}\n",
      "for h in headers:\n",
      "    column[h] = []"
     ],
     "language": "python",
     "metadata": {},
     "outputs": [
      {
       "ename": "StopIteration",
       "evalue": "",
       "output_type": "pyerr",
       "traceback": [
        "\u001b[0;31m---------------------------------------------------------------------------\u001b[0m\n\u001b[0;31mStopIteration\u001b[0m                             Traceback (most recent call last)",
        "\u001b[0;32m<ipython-input-23-ccc18fb972dc>\u001b[0m in \u001b[0;36m<module>\u001b[0;34m()\u001b[0m\n\u001b[0;32m----> 1\u001b[0;31m \u001b[0mheaders\u001b[0m \u001b[0;34m=\u001b[0m \u001b[0mreader\u001b[0m\u001b[0;34m.\u001b[0m\u001b[0mnext\u001b[0m\u001b[0;34m(\u001b[0m\u001b[0;34m)\u001b[0m\u001b[0;34m\u001b[0m\u001b[0m\n\u001b[0m\u001b[1;32m      2\u001b[0m \u001b[0;34m\u001b[0m\u001b[0m\n\u001b[1;32m      3\u001b[0m \u001b[0;32mfor\u001b[0m \u001b[0mrow\u001b[0m \u001b[0;32min\u001b[0m \u001b[0mreader\u001b[0m\u001b[0;34m:\u001b[0m\u001b[0;34m\u001b[0m\u001b[0m\n\u001b[1;32m      4\u001b[0m     \u001b[0;32mprint\u001b[0m \u001b[0mrow\u001b[0m\u001b[0;34m\u001b[0m\u001b[0m\n\u001b[1;32m      5\u001b[0m \u001b[0;34m\u001b[0m\u001b[0m\n",
        "\u001b[0;31mStopIteration\u001b[0m: "
       ]
      }
     ],
     "prompt_number": 23
    },
    {
     "cell_type": "code",
     "collapsed": false,
     "input": [
      "for row in reader:\n",
      "    for h, v in zip(headers, row):\n",
      "        column[h].append(v)\n"
     ],
     "language": "python",
     "metadata": {},
     "outputs": [],
     "prompt_number": 18
    },
    {
     "cell_type": "code",
     "collapsed": false,
     "input": [],
     "language": "python",
     "metadata": {},
     "outputs": [],
     "prompt_number": 15
    },
    {
     "cell_type": "code",
     "collapsed": false,
     "input": [],
     "language": "python",
     "metadata": {},
     "outputs": []
    }
   ],
   "metadata": {}
  }
 ]
}